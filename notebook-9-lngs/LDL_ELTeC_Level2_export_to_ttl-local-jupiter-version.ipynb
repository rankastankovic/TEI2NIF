{
 "cells": [
  {
   "cell_type": "markdown",
   "metadata": {
    "id": "eXyvhBWb8hgK"
   },
   "source": [
    "\n",
    "# Export srpELTeC to NIF\n",
    "\n",
    "* Virtual mobility Grant holder: ***Ranka Stanković ***\n",
    "* Virtual mobility grant: E-COST-GRANT-CA18209-4349b689, \"European literary text collection ELTEC transformation and publishing as linguistic linked\n",
    "open data: use case for 3 languages\"\n",
    "\n"
   ]
  },
  {
   "cell_type": "markdown",
   "metadata": {
    "id": "8AmPafxHQEBp"
   },
   "source": [
    "* Start and end date: 01/08/2022 to 15/10/2022\n",
    "* COST Action: CA18209\n",
    "* collaborator: Milica Ikonić Nešić\n",
    "* Suported by Max Ionov, Christian Chiarcos and others from WG1, Task 5\n",
    "\n",
    "**Description**: Source files are 300 novels from ELTeC collection (100 per 3 languages: sr, sl, pt) coded in XML/TEI level-2  https://github.com/COST-ELTeC/ELTeC-srp/tree/master/level2 (POS taged, lemmatised, with annotated named entities, also supplied by metadata in TeiHeader and in Wikidata https://www.wikidata.org/wiki/Wikidata:WikiProject_ELTeC)"
   ]
  },
  {
   "cell_type": "markdown",
   "metadata": {
    "id": "y4SsbRmnXV7v"
   },
   "source": [
    "## install & import part"
   ]
  },
  {
   "cell_type": "code",
   "execution_count": 1,
   "metadata": {
    "colab": {
     "base_uri": "https://localhost:8080/"
    },
    "id": "v-RRzBvNuT7U",
    "outputId": "8ed9c46c-18de-4aca-8414-02556d08b50a"
   },
   "outputs": [],
   "source": [
    "# for importing/clonning repository with novels\n",
    "#!pip install gitpython"
   ]
  },
  {
   "cell_type": "code",
   "execution_count": 2,
   "metadata": {
    "colab": {
     "base_uri": "https://localhost:8080/"
    },
    "id": "CWn0YPe3CXSz",
    "outputId": "5aa66e14-b5d0-4936-88a5-12ea94d3e2e6"
   },
   "outputs": [],
   "source": [
    "#!pip3 install rdflib sparqlwrapper pydotplus graphviz"
   ]
  },
  {
   "cell_type": "code",
   "execution_count": 3,
   "metadata": {
    "colab": {
     "base_uri": "https://localhost:8080/"
    },
    "id": "z3mQ8M5CXRQK",
    "outputId": "dfc6fbdc-eb9d-4ec4-8379-411fa470759f"
   },
   "outputs": [],
   "source": [
    "#!pip install mkwikidata"
   ]
  },
  {
   "cell_type": "code",
   "execution_count": 4,
   "metadata": {
    "colab": {
     "base_uri": "https://localhost:8080/"
    },
    "id": "MMIKKz4u5XJ6",
    "outputId": "bdd384e3-f9ac-4ddd-ae37-3fe235555ed4"
   },
   "outputs": [],
   "source": [
    "#ovo sam odustala\n",
    "#!pip install spacyopentapioca # for NEL"
   ]
  },
  {
   "cell_type": "code",
   "execution_count": 5,
   "metadata": {
    "colab": {
     "base_uri": "https://localhost:8080/"
    },
    "id": "iWMUTUkxBldw",
    "outputId": "18c933e2-cc54-4281-b8b3-d575acf33823"
   },
   "outputs": [],
   "source": [
    "# os,sys,glob\n",
    "import os\n",
    "import os.path\n",
    "from os import path\n",
    "import sys\n",
    "import glob \n",
    "import locale\n",
    "import spacy\n",
    "import string\n",
    "\n",
    "# xml \n",
    "from lxml import etree\n",
    "# rdf\n",
    "import rdflib\n",
    "from rdflib import Graph\n",
    "from rdflib.namespace import RDF, RDFS, XSD, OWL, DCAT, FOAF\n",
    "from rdflib import URIRef, BNode, Literal\n",
    "import networkx as nx\n",
    "import io\n",
    "import pydotplus\n",
    "from IPython.display import display, Image\n",
    "from rdflib.tools.rdf2dot import rdf2dot\n",
    "import mkwikidata\n",
    "import re\n",
    "\n",
    "ITSRDF=rdflib.Namespace(\"http://www.w3.org/2005/11/its/rdf#\")\n",
    "NIF = rdflib.Namespace(\"http://persistence.uni-leipzig.org/nlp2rdf/ontologies/nif-core#\")\n",
    "# NERD= rdflib.Namespace(\"http://nerd.eurecom.fr/ontology#\")\n",
    "DC = rdflib.Namespace(\"http://purl.org/dc/elements/1.1/\") \n",
    "DCT = rdflib.Namespace(\"http://purl.org/dc/terms/\") \n",
    "MS = rdflib.Namespace(\"http://w3id.org/meta-share/meta-share/\") \n",
    "WD = rdflib.Namespace(\"http://www.wikidata.org/entity/\")\n",
    "#WD = rdflib.Namespace(\"http://www.wikidata.org/wiki/\")\n",
    "WDT = rdflib.Namespace(\"http://www.wikidata.org/prop/direct/\")\n",
    "DBO = rdflib.Namespace(\"https://dbpedia.org/ontology/\")\n",
    "OLIA = rdflib.Namespace(\"http://purl.org/olia/discourse/olia_discourse.owl#\")\n",
    "prov_uri = URIRef(\"http://llod.jerteh.rs/ELTEC/srp/NIF/\")\n",
    "\n",
    "\n",
    "\n",
    "nlp_nel = spacy.blank('en')\n",
    "#nlp_nel.add_pipe('opentapioca')"
   ]
  },
  {
   "cell_type": "markdown",
   "metadata": {
    "id": "KZM9q_kSXpRJ"
   },
   "source": [
    "# Metadata description"
   ]
  },
  {
   "cell_type": "markdown",
   "metadata": {
    "id": "Ebp2cIKL_OFk"
   },
   "source": [
    "For metadata analysed: https://link.springer.com/chapter/10.1007/978-3-319-18818-8_20, lexmeta : https://lexbib.elex.is/wiki/LexMeta, \n",
    "https://github.com/pennyl67/LexMeta/blob/main/lexmeta.ttl\n",
    "\n",
    "Metadata for collections described in Wikidata: https://www.wikidata.org/wiki/Wikidata:WikiProject_ELTeC (first edition, printed edition, ELTeC edition)\n",
    "\n",
    "Key values prepared for this edition:\n",
    "* ID - dct:identifier\n",
    "* title - dct:title (from teiHeader : titleStmt)\n",
    "* author (name) - ms:author\n",
    "* authorQID - dc:creator,\n",
    "* novelQID - linked as edition of novel \n",
    "* publisher - dct:publisher \n",
    "* licence - ms:LicenceTerms\n",
    "* year - ms:publicationDate\n",
    "* language - dc:Language, ms:Language\n",
    "* collection - wdt:P1433 \n"
   ]
  },
  {
   "cell_type": "markdown",
   "metadata": {
    "id": "VzoTGYh0XjVc"
   },
   "source": []
  },
  {
   "cell_type": "markdown",
   "metadata": {
    "id": "3fAYjuSdy84I"
   },
   "source": [
    "--------------------------------------------"
   ]
  },
  {
   "cell_type": "markdown",
   "metadata": {
    "id": "vtxNpp6u21JR"
   },
   "source": [
    "# Ontology mapping"
   ]
  },
  {
   "cell_type": "markdown",
   "metadata": {
    "id": "eXYmqDdYsji1"
   },
   "source": []
  },
  {
   "cell_type": "markdown",
   "metadata": {
    "id": "jhrIbulcwxzs"
   },
   "source": [
    "Initially used:\n",
    "https://github.com/NERD-project/nerd-ontology/blob/master/nerd.owl  but replaced with: \n",
    "http://purl.org/olia/discourse/olia_discourse.owl\n",
    "\n",
    "* http://nerd.eurecom.fr/ontology#Person  (mapped to http://purl.org/olia/discourse/olia_discourse.owl#Person)\n",
    "* http://nerd.eurecom.fr/ontology#Location (mapped to http://purl.org/olia/discourse/olia_discourse.owl#Space)\n",
    "* http://nerd.eurecom.fr/ontology#Organization  (mapped to http://purl.org/olia/discourse/olia_discourse.owl#Organization)\n",
    "* http://nerd.eurecom.fr/ontology#Event  (mapped to http://purl.org/olia/discourse/olia_discourse.owl#Event)\n",
    "* ROLE - Names of posts and job titles (profession, nobility, office, military)\n",
    "* DEMO - DEMO -  Demonyms, names of kinds of people: national, regional, political (Frenchwoman; German; Parisiens;...) \n",
    "* WORK - titles of books, songs, plays, newspaper, paintings, sculptures  and other creations\n",
    "\n",
    "Additional:\n",
    "* https://dbpedia.org/ontology/Person, https://www.wikidata.org/wiki/Q5, https://schema.org/Person\n",
    "* https://dbpedia.org/ontology/Place, https://www.wikidata.org/wiki/Q7884789, https://schema.org/Place\n",
    "* https://dbpedia.org/ontology/Organisation, https://www.wikidata.org/wiki/Q43229, https://schema.org/Organization\n",
    "* https://dbpedia.org/ontology/Event, https://www.wikidata.org/wiki/Q1656682, https://schema.org/Event\n",
    "* https://dbpedia.org/ontology/Profession, https://www.wikidata.org/wiki/Q28640, https://schema.org/Occupation\n",
    "* demonym as property only: https://dbpedia.org/ontology/demonym, https://www.wikidata.org/wiki/Q217438\n",
    "* https://dbpedia.org/ontology/Work, https://www.wikidata.org/wiki/Q386724, https://schema.org/CreativeWork, \n",
    "\n",
    "\n",
    "Rizzo, Giuseppe, Raphaël Troncy, Sebastian Hellmann, and Martin Bruemmer. \"NERD meets NIF: Lifting NLP extraction results to the linked data cloud.\" In LDOW. 2012. http://ceur-ws.org/Vol-937/ldow2012-paper-02.pdf "
   ]
  },
  {
   "cell_type": "markdown",
   "metadata": {
    "id": "s2r8ZweIUeXG"
   },
   "source": [
    "# General classes: Token, Sentence, NamedEntity"
   ]
  },
  {
   "cell_type": "markdown",
   "metadata": {
    "id": "GleaZpu6ChCO"
   },
   "source": [
    "TEI+RDF+LLOD literature\n",
    "\n",
    "https://content.iospress.com/articles/semantic-web/sw222859\n",
    "\n",
    "* P. Ruiz Fabo, H. Bermúdez Sabel, C. Martínez Cantón and E. González-Blanco, The diachronic Spanish sonnet corpus: TEI and linked open data encoding, data distribution, and metrical findings, Digital Scholarship in the Humanities (2020). doi:10.1093/llc/fqaa035.\n",
    "\n",
    "\n",
    "* S. Tittel, H. Bermúdez-Sabel and C. Chiarcos, Using RDFa to link text and dictionary data for medieval French, in: Proceedings of the Eleventh International Conference on Language Resources and Evaluation (LREC-2018), European Language Resources Association (ELRA), 2018.\n",
    "\n",
    "* Khan, Anas Fahad, Christian Chiarcos, Thierry Declerck, Daniela Gifu, Elena González-Blanco García, Jorge Gracia, Maxim Ionov et al. \"When Linguistics Meets Web Technologies. Recent advances in Modelling Linguistic Linked Data.\" (2021).\n"
   ]
  },
  {
   "cell_type": "code",
   "execution_count": 6,
   "metadata": {
    "id": "qG_iyAmWDsH8"
   },
   "outputs": [],
   "source": [
    "# manage reading token properties from token (xml node) and generate graf triples\n",
    "class Token:    \n",
    "\n",
    "    def __init__(self, token,cur_index):\n",
    "        #self.id = token.xpath(\"./@xml:id\",namespaces={'xml':'http://www.w3.org/XML/1998/namespace'})[0]\n",
    "        #\\n*\\s*([^\\s\\n]*)\\n*\n",
    "        self.text =  re.sub('\\s+', '', token.text, re.MULTILINE)\n",
    "\n",
    "        self.pos = token.xpath(\"./@pos\")[0]\n",
    "        self.lemma = \"\" if self.pos == \"PUNCT\" or 'lemma' not in token.attrib else token.xpath(\"./@lemma\")[0]\n",
    "        self.join = token.xpath(\"./@join\")\n",
    "        # fro NER\n",
    "        self.parent = token.getparent()\n",
    "        self.first_NER_node=False\n",
    "        if  self.parent.xpath(\"name()\")==\"rs\" :\n",
    "           if ( list(self.parent)[0]==token and self.parent.xpath(\"./@type\")): # for NER important \n",
    "              self.first_NER_node = True\n",
    "        self.index_start=cur_index\n",
    "        self.index_end=self.index_start+len(self.text)\n",
    "\n",
    "    # create graph triples for this token\n",
    "    def init_gtoken(self,g,base_url):\n",
    "      gtoken= URIRef(base_url+\"#char={0},{1}\".format(self.index_start,self.index_end))\n",
    "      g.add( (gtoken, RDF.type, NIF.Word ) )\n",
    "      g.add( (gtoken, RDF.type, NIF.RFC5147String  ) )\n",
    "     # g.add( (gtoken,RDF.type, NIF.OffsetBasedString) ) Christian sugestion to remove\n",
    "      g.add( (gtoken, NIF.anchorOf, Literal(self.text, datatype=XSD.string)) )\n",
    "      g.add( (gtoken, NIF.beginIndex, Literal(self.index_start, datatype=XSD.nonNegativeInteger)) )\n",
    "      g.add( (gtoken, NIF.endIndex, Literal(self.index_end, datatype=XSD.nonNegativeInteger)) )\n",
    "      g.add( (gtoken, NIF.posTag, Literal(self.pos, datatype=XSD.string)))\n",
    "      if self.lemma!=\"\":\n",
    "        g.add( (gtoken, NIF.lemma, Literal(self.lemma, datatype=XSD.string)))      \n",
    "\n",
    "      return gtoken"
   ]
  },
  {
   "cell_type": "code",
   "execution_count": 7,
   "metadata": {
    "id": "FsGB6wHJNx_U"
   },
   "outputs": [],
   "source": [
    "# manage reading sentence properties from sent (xml) and generate graph triples\n",
    "class Sentence:    \n",
    "\n",
    "    def __init__(self, sent,cur_index):\n",
    "        #self.id = sent.xpath(\"./@xml:id\",namespaces={'xml':'http://www.w3.org/XML/1998/namespace'})[0]\n",
    "        self.tokens=sent.xpath(\".//*[local-name()='w' or local-name()='pc']\")\n",
    "        self.text=\"\"\n",
    "        self.index_start=cur_index\n",
    "        \n",
    "        self.otokens = []\n",
    "        # loop all tokens in sentence\n",
    "        for token in self.tokens:\n",
    "          otoken=Token(token,cur_index)\n",
    "          self.otokens.append(otoken)\n",
    "          # concatenate to sent\n",
    "          self.text +=otoken.text      \n",
    "          cur_index+=len(otoken.text)\n",
    "          if not otoken.join:\n",
    "            self.text+=\" \"\n",
    "            cur_index+=1\n",
    "        self.index_end = cur_index   \n",
    "\n",
    "    # create graph triples for this sentence\n",
    "    def init_gsent(self,g,base_url):\n",
    "      gsent= URIRef(base_url+\"#char={0},{1}\".format(self.index_start,self.index_start+len(self.text))) # add sent ID\n",
    "      g.add( (gsent, RDF.type, NIF.Sentence) )\n",
    "      g.add( (gsent, RDF.type,NIF.Context) )\n",
    "      g.add( (gsent, RDF.type, NIF.RFC5147String) )\n",
    "     # g.add( (gsent, RDF.type, NIF.OffsetBasedString) )\n",
    "      # NIF.anchorOf, NIF.endIndex later\n",
    "      g.add( (gsent, NIF.beginIndex, Literal(self.index_start, datatype=XSD.nonNegativeInteger)\t))\n",
    "\n",
    "      \n",
    "      return gsent"
   ]
  },
  {
   "cell_type": "code",
   "execution_count": 8,
   "metadata": {
    "id": "zACtkTJwnvwL"
   },
   "outputs": [],
   "source": [
    "# manage NE named entities: PERS LOC ORG EVENT ROLE DEMO WORK \n",
    "class NamedEntity:\n",
    "\n",
    "  def __init__(self, parent,cur_index):\n",
    "      self.index_start=cur_index\n",
    "      self.text=\"\"\n",
    "      for ne in parent.getchildren():\n",
    "         self.text +=ne.text\n",
    "         self.join = ne.xpath(\"./@join\") \n",
    "         if not self.join:\n",
    "            self.text+=\" \"\n",
    "      self.text=self.text.rstrip()      \n",
    "      self.index_end=self.index_start+len(self.text)\n",
    "      if (parent.xpath(\"./@type\")): \n",
    "         self.ne_type = parent.xpath(\"./@type\")[0] \n",
    "  \n",
    "  # create graph triples for this token\n",
    "  def init_gne(self,g, base_url):\n",
    "      gne= URIRef(base_url+\"#char={0},{1}\".format(self.index_start,self.index_end) )   \n",
    "      g.add( (gne, RDF.type, NIF.RFC5147String) )  \n",
    "     # g.add( (gne, RDF.type, NIF.OffsetBasedString) )\n",
    "     # g.add((gne, RDF.type, NIF.EntityOccurrence )) not in NIF2.0 FK and CC sugested to eliminate and search by properties\n",
    "      g.add( (gne, NIF.anchorOf,Literal(self.text, datatype=XSD.string)));\n",
    "      g.add( (gne, NIF.beginIndex,Literal(self.index_start, datatype=XSD.nonNegativeInteger)))  \n",
    "      g.add( (gne, NIF.endIndex,Literal(self.index_end, datatype=XSD.nonNegativeInteger)))  \n",
    "      if self.ne_type in ['PERS', 'PERSON']:\n",
    "         g.add( (gne, ITSRDF.taClassRef, OLIA.Person))         \n",
    "         g.add( (gne, ITSRDF.taClassRef, WD.Q5))\n",
    "         g.add( (gne, ITSRDF.taClassRef, DBO.Person))\n",
    "      elif self.ne_type in ['LOC', 'LOCATION', 'PLACE', 'GPE']:\n",
    "        # g.add( (gne, ITSRDF.taClassRef, NERD.Location))\n",
    "        g.add( (gne, ITSRDF.taClassRef, OLIA.Space))\n",
    "        g.add( (gne, ITSRDF.taClassRef, WD.Q7884789))\n",
    "        g.add( (gne, ITSRDF.taClassRef, DBO.Place))\n",
    "      elif self.ne_type in ['ORG', 'ORGANISATION']:\n",
    "        g.add( (gne, ITSRDF.taClassRef, OLIA.Organization))\n",
    "        g.add( (gne, ITSRDF.taClassRef, WD.Q43229))\n",
    "        g.add( (gne, ITSRDF.taClassRef, DBO.Organisation))\n",
    "      elif self.ne_type in ['EVENT']:\n",
    "        g.add( (gne, ITSRDF.taClassRef, OLIA.Event))\n",
    "        g.add( (gne, ITSRDF.taClassRef, WD.Q1656682))\n",
    "        g.add( (gne, ITSRDF.taClassRef, DBO.Event))\n",
    "      elif self.ne_type in ['ROLE']:\n",
    "        # g.add( (gne, ITSRDF.taClassRef, Literal(\"<\" +self.ne_type+\">\", datatype=XSD.string ))) # just string\n",
    "        g.add( (gne, ITSRDF.taClassRef, WD.Q28640))    # profession, not exact, it could be title as well\n",
    "        g.add( (gne, ITSRDF.taClassRef, DBO.Profession))\n",
    "      elif self.ne_type in ['DEMO']:\n",
    "        # g.add( (gne, ITSRDF.taClassRef, Literal(\"<\" +self.ne_type+\">\", datatype=XSD.string ))) # just string\n",
    "        g.add( (gne, ITSRDF.taClassRef, WD.Q217438 ))\n",
    "        g.add( (gne, ITSRDF.taClassRef, DBO.demonym)) # check this\n",
    "      elif self.ne_type in ['WORK']:\n",
    "        # g.add( (gne, ITSRDF.taClassRef, Literal(\"<\" +self.ne_type+\">\", datatype=XSD.string ))) # just string\n",
    "        g.add( (gne, ITSRDF.taClassRef, WD.Q386724 ))\n",
    "        g.add( (gne, ITSRDF.taClassRef, DBO.Work))\n",
    "      else :  # something not expected\n",
    "         g.add( (gne, ITSRDF.taClassRef, Literal(\"<\" +self.ne_type+\">\", datatype=XSD.string ))) \n",
    "\n",
    "      # added for Tapioca 21.10.2022\n",
    "#     nel= getTapioca(self.text)\n",
    "#      if nel != None:\n",
    "#        g.add( (gne, ITSRDF.taIdentRef, URIRef(\"http://www.wikidata.org/entity/\"+nel) ))\n",
    "      return gne     "
   ]
  },
  {
   "cell_type": "code",
   "execution_count": 9,
   "metadata": {},
   "outputs": [],
   "source": [
    "collectionQIDs ={ \n",
    "    \"srp\":\"Q106936149\",  # extended Q109123373 \n",
    "    \"por\":\"Q111095586\",  \n",
    "    \"slv\":\"Q111046825\",  \n",
    "    \"hun\":\"Q111136029\",\n",
    "    \"eng\":\"Q111271624\", \n",
    "    \"fra\":\"Q111271916\", \n",
    "    \"deu\":\"Q111238785\", \n",
    "    \"rom\":\"Q116197427\", \n",
    "    \"pol\":\"Q116197411\",\n",
    "    \"spa\":\"Q116245956\"}  \n",
    "lng2s ={ \n",
    "    \"srp\":\"sr\",  \n",
    "    \"por\":\"pt\",  \n",
    "    \"slv\":\"sl\",  \n",
    "    \"hun\":\"hu\",\n",
    "    \"eng\":\"en\", \n",
    "    \"fra\":\"fr\", \n",
    "    \"deu\":\"de\", \n",
    "    \"rom\":\"ro\",\n",
    "    \"pol\":\"pl\",\n",
    "    \"spa\":\"es\"}"
   ]
  },
  {
   "cell_type": "markdown",
   "metadata": {},
   "source": [
    "# Class Novel"
   ]
  },
  {
   "cell_type": "code",
   "execution_count": 10,
   "metadata": {
    "id": "zen14hvxkttT"
   },
   "outputs": [],
   "source": [
    "# manage reading novel and generate graph triples\n",
    "class Novel:    \n",
    "\n",
    "    def __init__(self, file_path_name, lng):\n",
    "       self.el = etree.parse(file_path_name)\n",
    "       self.id=self.el.xpath(\"./@xml:id\",namespaces={'xml':'http://www.w3.org/XML/1998/namespace'})[0].replace(\".xml\",\"\")\n",
    "       # do the senteces\n",
    "       self.sentences = self.el.xpath(\"//*[local-name()='s']\")\n",
    "       self.text=\"\"\n",
    "       self.index_start=0\n",
    "       self.lng=lng\n",
    "       self.file_name =os.path.basename(file_path_name).replace(\".xml\",\".txt\")\n",
    "       self.url=\"http://llod.jerteh.rs/ELTEC/\"+lng+\"/NIF/\" +self.id +\".txt\"  #self.file_name\n",
    "\n",
    "       #  metadata  \n",
    "       self.titleStmt=self.el.xpath(\"//*[local-name()='titleStmt']\")[0]  \n",
    "       self.title=self.titleStmt.xpath(\"*[local-name()='title']\")[0]   \n",
    "       # author from TEI file\n",
    "       self.author=self.titleStmt.xpath(\"*[local-name()='author']\")[0]     \n",
    "       self.publicationStmt=self.el.xpath(\"//*[local-name()='publicationStmt']\")[0] #publicationStmt\n",
    "       if self.publicationStmt.xpath(\"*[local-name()='publisher']\") :\n",
    "         pub = self.publicationStmt.xpath(\"*[local-name()='publisher']\")[0]  \n",
    "         self.publisher=pub.text\n",
    "       else:\n",
    "         self.publisher=\"\"\n",
    "\n",
    "    # graph initialisation for one novel \n",
    "    def  init_gnovel(self,g):      \n",
    "       # for graph\n",
    "       gnovel= URIRef(self.url) # +\"{0}_{1}\".format(0,) \n",
    "       #g.add( (gnovel, RDF.type, NIF.OffsetBasedString) )\n",
    "       g.add( (gnovel, RDF.type, NIF.RFC5147String) )\n",
    "       g.add( (gnovel, RDF.type, NIF.Context  ) ) \n",
    "       g.add( (gnovel, NIF.beginIndex, Literal(\"0\",datatype=XSD.nonNegativeInteger) )) \n",
    "       g.add( (gnovel, DCT.identifier,  Literal(self.id,datatype=XSD.string)    ))\n",
    "   \n",
    "       g.add( (gnovel, DCT.title, Literal(self.title.text,datatype=XSD.string)) )\n",
    "       # language\n",
    "       g.add((gnovel,DC.Language, Literal(lng2s[lng],datatype=XSD.string)))\n",
    "       g.add((gnovel,MS.Language, Literal(lng2s[lng],datatype=XSD.string)))\n",
    "       # collection\n",
    "       g.add((gnovel,WDT.P1433,URIRef(\"http://www.wikidata.org/entity/\"+collectionQIDs[lng])))\n",
    "       # from Wikidata read \n",
    "       query_result=getWiki(self.id,lng2s[lng],collectionQIDs[lng])\n",
    "       for result in query_result[\"results\"][\"bindings\"]:\n",
    "         novelQID =  URIRef( wiki2entity(result[\"novel\"][\"value\"])) if (\"novel\" in result) else None\n",
    "         authorQID = URIRef( result[\"author\"][\"value\"]) if (\"author\" in result) else None\n",
    "         year =  result[\"year\"][\"value\"] if (\"year\" in result) else None\n",
    "         licence = URIRef(wiki2entity(result[\"licence\"][\"value\"])) if (\"licence\" in result) else None\n",
    "         g.add( (gnovel, WDT.P31, WD.Q3331189) ) # is edition\n",
    "         g.add( (novelQID, WDT.P747, gnovel) ) # has edition\n",
    "         g.add( (gnovel,DC.creator,authorQID) )\n",
    "         g.add( (gnovel,MS.publicationDate, Literal(year,datatype=XSD.nonNegativeInteger)) )\n",
    "         g.add( (gnovel,MS.LicenceTerms, licence) )\n",
    "\n",
    "       g.add((gnovel,MS.author,Literal(wiki2entity(self.author.text),datatype=XSD.string)))\n",
    "        \n",
    "       if self.publisher !=\"\" :\n",
    "         g.add( (gnovel, DCT.publisher, Literal(wiki2entity(self.publisher),datatype=XSD.string)) )\n",
    "        \n",
    "       return gnovel"
   ]
  },
  {
   "cell_type": "markdown",
   "metadata": {
    "id": "tqAznhP3x2GF"
   },
   "source": []
  },
  {
   "cell_type": "markdown",
   "metadata": {
    "id": "Uq8jTmtvx2QQ"
   },
   "source": []
  },
  {
   "cell_type": "markdown",
   "metadata": {
    "id": "6vm07KCI2iPl"
   },
   "source": [
    "# Initialisation and metadata "
   ]
  },
  {
   "cell_type": "markdown",
   "metadata": {
    "id": "QDATcr0q0Xqv"
   },
   "source": [
    "\\"
   ]
  },
  {
   "cell_type": "code",
   "execution_count": 11,
   "metadata": {
    "id": "vbO0btJRgKiY"
   },
   "outputs": [],
   "source": [
    "def wiki2entity(urlWiki):\n",
    "  return urlWiki.replace(\"http://www.wikidata.org/wiki/\",\"http://www.wikidata.org/entity/\")\n",
    "def entity2wiki(urlWiki):\n",
    "  return urlWiki.replace(\"http://www.wikidata.org/entity/\",\"http://www.wikidata.org/wiki/\")\n"
   ]
  },
  {
   "cell_type": "code",
   "execution_count": 12,
   "metadata": {
    "id": "bSREwM2LyeXp"
   },
   "outputs": [],
   "source": [
    "# read wikidata metapodataka\n",
    "# novel_id - string (in wikidata \"volume\")\n",
    "# lng2: sl, sr, pt,....\n",
    "# collectionQID: Q111046825, Q106936149, Q111095586 \n",
    "def getWiki(novel_id, lng2, collectionQID):\n",
    "  query='''\n",
    "  SELECT DISTINCT ?novel ?author ?edition (YEAR(?date) as ?year) ?licence\n",
    "  WHERE {\n",
    "    # published in (P1433) srpELTeC collection(Q106936149)\n",
    "    ?novel wdt:P31 wd:Q7725634; # is literary work\n",
    "         wdt:P747 ?edition; # has edition  \n",
    "         wdt:P577  ?date;\n",
    "         wdt:P50 ?author.\n",
    "    OPTIONAL {?edition wdt:P275 ?licence.}\n",
    "    ?edition wdt:P478 \"'''+ novel_id +'''\".   \n",
    "    ?edition wdt:P1433 wd:'''+collectionQID+'''. # published in\n",
    "    SERVICE wikibase:label { bd:serviceParam wikibase:language \"'''+lng2+'''\". }\n",
    "  }\n",
    "  '''\n",
    "  query_result = mkwikidata.run_query(query, params={ })\n",
    "  # print(query)\n",
    "  return query_result"
   ]
  },
  {
   "cell_type": "code",
   "execution_count": 13,
   "metadata": {
    "id": "vDZaqluEERb3"
   },
   "outputs": [],
   "source": [
    "# test wiki read\n",
    "#getWiki(\"SRP18520\", \"sr\", \"Q106936149\")\n",
    "#getWiki(\"POR0065\", \"pt\", \"Q111095586\")"
   ]
  },
  {
   "cell_type": "code",
   "execution_count": 14,
   "metadata": {
    "id": "R50IKpap6bsU"
   },
   "outputs": [],
   "source": [
    "# get QID for named entity using opentapioca\n",
    "# ne_text - named enetity\n",
    "# added 21.10.2022.\n",
    "# nlp_nel global object\n",
    "# function not used, tapioca has a limited number of calls\n",
    "def getTapioca(ne_text):\n",
    "  doc = nlp_nel(ne_text)\n",
    "  for ent_nel in doc.ents:\n",
    "    return ent_nel.kb_id_   # return just first"
   ]
  },
  {
   "cell_type": "code",
   "execution_count": 15,
   "metadata": {
    "colab": {
     "base_uri": "https://localhost:8080/"
    },
    "id": "vjbHsSGi5vHr",
    "outputId": "4883f7e2-c43e-422c-d87b-2c6310e029de"
   },
   "outputs": [],
   "source": [
    "#print(getTapioca('Београд je Srbija'))"
   ]
  },
  {
   "cell_type": "markdown",
   "metadata": {
    "id": "w4IpcF_3CVTr"
   },
   "source": [
    "# Main function to write ttl file"
   ]
  },
  {
   "cell_type": "markdown",
   "metadata": {
    "id": "6uAuMVPbNJqK"
   },
   "source": [
    "Guidelines for developing NIF-based NLP services \n",
    "https://www.w3.org/2015/09/bpmlod-reports/nif-based-nlp-webservices/"
   ]
  },
  {
   "cell_type": "code",
   "execution_count": 16,
   "metadata": {
    "id": "a9kFlCBZR-yJ"
   },
   "outputs": [],
   "source": [
    "# create graph, ...\n",
    "def write_gnovel(file_path_name,lng,sent_num):\n",
    "  g = Graph()\n",
    "  g.bind('itsrdf', ITSRDF)\n",
    "  g.bind('nif', NIF)\n",
    "  g.bind('olia', OLIA)\n",
    "  g.bind('dc',DC) \n",
    "  g.bind('dct',DCT)  \n",
    "  g.bind('ms',MS)  \n",
    "  g.bind('wd', WD)\n",
    "  g.bind('wdt', WDT)\n",
    "  g.bind('dbo', DBO)\n",
    "  g.bind('eltec', ELTEC)\n",
    "\n",
    "  onovel = Novel(file_path_name,lng)\n",
    "  \n",
    "  # insert initial triples for novel\n",
    "  gnovel = onovel.init_gnovel(g)\n",
    "  gsent_before=None\n",
    "  one=None\n",
    "\n",
    "  scount=0 # just for testing, remove later\n",
    "  cur_index=0 # position in text\n",
    "  for sent in onovel.sentences: # loop all sentences in one novel\n",
    "    scount+=1\n",
    "    if scount > sent_num:\n",
    "      break    # break after few sentences for test\n",
    "    osent=Sentence(sent,cur_index)\n",
    "    cur_index=osent.index_end \n",
    "    gsent = osent.init_gsent(g,onovel.url)  \n",
    "    if gsent_before != None:\n",
    "        g.add( (gsent, NIF.previousSentence, gsent_before ) )\n",
    "        g.add( (gsent_before, NIF.nextSentence, gsent ) )\n",
    "    g.add( (gsent, NIF.referenceContext, gnovel)) \n",
    "    gtoken_before=None \n",
    "    # loop all tokens in sentence\n",
    "    for otoken in osent.otokens:\n",
    "       gtoken = otoken.init_gtoken(g,onovel.url)\n",
    "       g.add( (gtoken, NIF.referenceContext ,gnovel))\n",
    "       g.add( (gtoken, NIF.sentence, gsent)) \n",
    "       g.add( (gsent, NIF.word, gtoken))\n",
    "       # relate token: previous, next\n",
    "       if gtoken_before!=None:\n",
    "         g.add((gtoken_before,NIF.nextWord,gtoken))\n",
    "         g.add((gtoken, NIF.previousWord, gtoken_before))\n",
    "       # NER\n",
    "       if  otoken.first_NER_node:\n",
    "          one=NamedEntity(otoken.parent,otoken.index_start)\n",
    "          gne = one.init_gne(g,onovel.url)\n",
    "          g.add( (gne, NIF.referenceContext ,gnovel))       \n",
    "       if (one):\n",
    "          if ( otoken.index_start>=one.index_start and otoken.index_end<=one.index_end):\n",
    "             g.add( (gtoken, NIF.subString,  gne) )\n",
    "       gtoken_before =gtoken\n",
    "       # end of token\n",
    "  \n",
    "    # finish sentence graph  sid,len(tokens),sent_text\n",
    "    # anchorOf / isString\n",
    "    g.add( (gsent, NIF.anchorOf  , Literal(osent.text, datatype=XSD.string)) )\n",
    "    g.add( (gsent, NIF.endIndex  , Literal(osent.index_start+len(osent.text), datatype=XSD.string)) )\n",
    "\n",
    "    # concatenate to novel\n",
    "    onovel.text+= osent.text+\" \"\n",
    "    cur_index+=1\n",
    "    gsent_before = gsent\n",
    "    # end of sentence\n",
    "  \n",
    "  # finish novel      \n",
    "  g.add( (gnovel, NIF.endIndex  , Literal(len(onovel.text.rstrip()),datatype=XSD.nonNegativeInteger)))\n",
    "  # Do we use NIF.anchorOf or NIF.isString\n",
    "  g.add( (gnovel, NIF.isString  , Literal(onovel.text.rstrip(), datatype=XSD.string)) )\n",
    "  #fn=file_path_name.replace(\".xml\",\".txt\").replace(\"\\\\\",\"/\").replace(\"/level2/\",\"/NIF/\")\n",
    "  fn= os.path.dirname(file_path_name).replace(\"/level2\",\"/NIF\")+\"/\"+onovel.id+\".txt\"\n",
    "  print(fn)\n",
    "  f_txt = open(fn, \"w\")\n",
    "  f_txt.write(onovel.text.rstrip())\n",
    "  f_txt.close()\n",
    "  # write RDF file\n",
    "  #file_path_name_out=file_path_name.replace(\".xml\",\".ttl\").replace(\"\\\\\",\"/\").replace(\"/level2/\",\"/NIF/\")\n",
    "  file_path_name_out=fn.replace(\".txt\",\".ttl\")\n",
    "  g.serialize(destination=file_path_name_out)"
   ]
  },
  {
   "cell_type": "code",
   "execution_count": null,
   "metadata": {
    "id": "M4XX-58Tc86s"
   },
   "outputs": [],
   "source": []
  },
  {
   "cell_type": "markdown",
   "metadata": {
    "id": "gBjqDgwGNDqH"
   },
   "source": [
    "# Select language repo\n",
    "This task TEI level-2: https://github.com/COST-ELTeC/ELTeC-srp, \n",
    "https://github.com/COST-ELTeC/ELTeC-slv, \n",
    "https://github.com/COST-ELTeC/ELTeC-por. \n",
    "\n",
    "Similar structure, possible for later adaptation, also level-2: https://github.com/COST-ELTeC/ELTeC-deu, https://github.com/COST-ELTeC/ELTeC-eng, https://github.com/COST-ELTeC/ELTeC-fra, \n",
    "https://github.com/COST-ELTeC/ELTeC-hun, https://github.com/COST-ELTeC/ELTeC-pol, https://github.com/COST-ELTeC/ELTeC-rom, https://github.com/COST-ELTeC/ELTeC-spa."
   ]
  },
  {
   "cell_type": "code",
   "execution_count": 17,
   "metadata": {
    "id": "qdUlzqAXaICu"
   },
   "outputs": [
    {
     "name": "stdout",
     "output_type": "stream",
     "text": [
      "D:/Korpusi/ELTEC/ELTeC-deu-master/NIF/DEU047.txt\n"
     ]
    }
   ],
   "source": [
    "# test on small portion of one file or list of files\n",
    "lng=\"deu\"\n",
    "ELTEC = rdflib.Namespace(\"http://llod.jerteh.rs/ELTEC/\"+lng+\"/NIF/\")\n",
    "# file_name='D:/Korpusi/ELTEC/ELTeC-'+lng+'-master/level2/ROM096-L2.xml' # 96,100\n",
    "p='D:/Korpusi/ELTEC/ELTeC-'+lng+'-master/level2/'\n",
    "l=[\"DEU047\"]\n",
    "for f in l:\n",
    "    file_name=p+f+\".xml\"\n",
    "    el = etree.parse(file_name)\n",
    "    novel_id=el.xpath(\"./@xml:id\",namespaces={'xml':'http://www.w3.org/XML/1998/namespace'})[0]\n",
    "    write_gnovel(file_name,lng,1000)\n",
    "#novel_id"
   ]
  },
  {
   "cell_type": "code",
   "execution_count": 23,
   "metadata": {
    "colab": {
     "base_uri": "https://localhost:8080/"
    },
    "id": "HdYJSnhH6sRB",
    "outputId": "bd52dd12-a393-4f73-e741-711220bd908e",
    "scrolled": true
   },
   "outputs": [
    {
     "name": "stdout",
     "output_type": "stream",
     "text": [
      "100\n",
      "D:/Korpusi/ELTEC/ELTeC-slv-master/level2\\SLV00024-L2.xml\n",
      "D:/Korpusi/ELTEC/ELTeC-slv-master/NIF/SLV00024.txt\n",
      "D:/Korpusi/ELTEC/ELTeC-slv-master/level2\\SLV00048-L2.xml\n",
      "D:/Korpusi/ELTEC/ELTeC-slv-master/NIF/SLV00048.txt\n",
      "D:/Korpusi/ELTEC/ELTeC-slv-master/level2\\SLV00058-L2.xml\n",
      "D:/Korpusi/ELTEC/ELTeC-slv-master/NIF/SLV00058.txt\n",
      "D:/Korpusi/ELTEC/ELTeC-slv-master/level2\\SLV00072-L2.xml\n",
      "D:/Korpusi/ELTEC/ELTeC-slv-master/NIF/SLV00072.txt\n",
      "D:/Korpusi/ELTEC/ELTeC-slv-master/level2\\SLV00090-L2.xml\n",
      "D:/Korpusi/ELTEC/ELTeC-slv-master/NIF/SLV00090.txt\n",
      "D:/Korpusi/ELTEC/ELTeC-slv-master/level2\\SLV00092-L2.xml\n",
      "D:/Korpusi/ELTEC/ELTeC-slv-master/NIF/SLV00092.txt\n",
      "D:/Korpusi/ELTEC/ELTeC-slv-master/level2\\SLV00094-L2.xml\n",
      "D:/Korpusi/ELTEC/ELTeC-slv-master/NIF/SLV00094.txt\n",
      "D:/Korpusi/ELTEC/ELTeC-slv-master/level2\\SLV00098-L2.xml\n",
      "D:/Korpusi/ELTEC/ELTeC-slv-master/NIF/SLV00098.txt\n",
      "D:/Korpusi/ELTEC/ELTeC-slv-master/level2\\SLV00099-L2.xml\n",
      "D:/Korpusi/ELTEC/ELTeC-slv-master/NIF/SLV00099.txt\n",
      "D:/Korpusi/ELTEC/ELTeC-slv-master/level2\\SLV00103-L2.xml\n",
      "D:/Korpusi/ELTEC/ELTeC-slv-master/NIF/SLV00103.txt\n",
      "D:/Korpusi/ELTEC/ELTeC-slv-master/level2\\SLV00111-L2.xml\n",
      "D:/Korpusi/ELTEC/ELTeC-slv-master/NIF/SLV00111.txt\n",
      "D:/Korpusi/ELTEC/ELTeC-slv-master/level2\\SLV00112-L2.xml\n",
      "D:/Korpusi/ELTEC/ELTeC-slv-master/NIF/SLV00112.txt\n",
      "D:/Korpusi/ELTEC/ELTeC-slv-master/level2\\SLV00122-L2.xml\n",
      "D:/Korpusi/ELTEC/ELTeC-slv-master/NIF/SLV00122.txt\n",
      "D:/Korpusi/ELTEC/ELTeC-slv-master/level2\\SLV00126-L2.xml\n",
      "D:/Korpusi/ELTEC/ELTeC-slv-master/NIF/SLV00126.txt\n",
      "D:/Korpusi/ELTEC/ELTeC-slv-master/level2\\SLV00132-L2.xml\n",
      "D:/Korpusi/ELTEC/ELTeC-slv-master/NIF/SLV00132.txt\n",
      "D:/Korpusi/ELTEC/ELTeC-slv-master/level2\\SLV00135-L2.xml\n",
      "D:/Korpusi/ELTEC/ELTeC-slv-master/NIF/SLV00135.txt\n",
      "D:/Korpusi/ELTEC/ELTeC-slv-master/level2\\SLV00136-L2.xml\n",
      "D:/Korpusi/ELTEC/ELTeC-slv-master/NIF/SLV00136.txt\n",
      "D:/Korpusi/ELTEC/ELTeC-slv-master/level2\\SLV00172-L2.xml\n",
      "D:/Korpusi/ELTEC/ELTeC-slv-master/NIF/SLV00172.txt\n",
      "D:/Korpusi/ELTEC/ELTeC-slv-master/level2\\SLV00174-L2.xml\n",
      "D:/Korpusi/ELTEC/ELTeC-slv-master/NIF/SLV00174.txt\n",
      "D:/Korpusi/ELTEC/ELTeC-slv-master/level2\\SLV00187-L2.xml\n",
      "D:/Korpusi/ELTEC/ELTeC-slv-master/NIF/SLV00187.txt\n",
      "D:/Korpusi/ELTEC/ELTeC-slv-master/level2\\SLV00194-L2.xml\n",
      "D:/Korpusi/ELTEC/ELTeC-slv-master/NIF/SLV00194.txt\n",
      "D:/Korpusi/ELTEC/ELTeC-slv-master/level2\\SLV00216-L2.xml\n",
      "D:/Korpusi/ELTEC/ELTeC-slv-master/NIF/SLV00216.txt\n",
      "D:/Korpusi/ELTEC/ELTeC-slv-master/level2\\SLV00217-L2.xml\n",
      "D:/Korpusi/ELTEC/ELTeC-slv-master/NIF/SLV00217.txt\n",
      "D:/Korpusi/ELTEC/ELTeC-slv-master/level2\\SLV00227-L2.xml\n",
      "D:/Korpusi/ELTEC/ELTeC-slv-master/NIF/SLV00227.txt\n",
      "D:/Korpusi/ELTEC/ELTeC-slv-master/level2\\SLV00231-L2.xml\n",
      "D:/Korpusi/ELTEC/ELTeC-slv-master/NIF/SLV00231.txt\n",
      "D:/Korpusi/ELTEC/ELTeC-slv-master/level2\\SLV00234-L2.xml\n",
      "D:/Korpusi/ELTEC/ELTeC-slv-master/NIF/SLV00234.txt\n",
      "D:/Korpusi/ELTEC/ELTeC-slv-master/level2\\SLV00240-L2.xml\n",
      "D:/Korpusi/ELTEC/ELTeC-slv-master/NIF/SLV00240.txt\n",
      "D:/Korpusi/ELTEC/ELTeC-slv-master/level2\\SLV00273-L2.xml\n",
      "D:/Korpusi/ELTEC/ELTeC-slv-master/NIF/SLV00273.txt\n",
      "D:/Korpusi/ELTEC/ELTeC-slv-master/level2\\SLV00278-L2.xml\n",
      "D:/Korpusi/ELTEC/ELTeC-slv-master/NIF/SLV00278.txt\n",
      "D:/Korpusi/ELTEC/ELTeC-slv-master/level2\\SLV00279-L2.xml\n",
      "D:/Korpusi/ELTEC/ELTeC-slv-master/NIF/SLV00279.txt\n",
      "D:/Korpusi/ELTEC/ELTeC-slv-master/level2\\SLV00310-L2.xml\n",
      "D:/Korpusi/ELTEC/ELTeC-slv-master/NIF/SLV00310.txt\n",
      "D:/Korpusi/ELTEC/ELTeC-slv-master/level2\\SLV00324-L2.xml\n",
      "D:/Korpusi/ELTEC/ELTeC-slv-master/NIF/SLV00324.txt\n",
      "D:/Korpusi/ELTEC/ELTeC-slv-master/level2\\SLV00325-L2.xml\n",
      "D:/Korpusi/ELTEC/ELTeC-slv-master/NIF/SLV00325.txt\n",
      "D:/Korpusi/ELTEC/ELTeC-slv-master/level2\\SLV00345-L2.xml\n",
      "D:/Korpusi/ELTEC/ELTeC-slv-master/NIF/SLV00345.txt\n",
      "D:/Korpusi/ELTEC/ELTeC-slv-master/level2\\SLV00352-L2.xml\n",
      "D:/Korpusi/ELTEC/ELTeC-slv-master/NIF/SLV00352.txt\n",
      "D:/Korpusi/ELTEC/ELTeC-slv-master/level2\\SLV00355-L2.xml\n",
      "D:/Korpusi/ELTEC/ELTeC-slv-master/NIF/SLV00355.txt\n",
      "D:/Korpusi/ELTEC/ELTeC-slv-master/level2\\SLV00363-L2.xml\n",
      "D:/Korpusi/ELTEC/ELTeC-slv-master/NIF/SLV00363.txt\n",
      "D:/Korpusi/ELTEC/ELTeC-slv-master/level2\\SLV00364-L2.xml\n",
      "D:/Korpusi/ELTEC/ELTeC-slv-master/NIF/SLV00364.txt\n",
      "D:/Korpusi/ELTEC/ELTeC-slv-master/level2\\SLV00373-L2.xml\n",
      "D:/Korpusi/ELTEC/ELTeC-slv-master/NIF/SLV00373.txt\n",
      "D:/Korpusi/ELTEC/ELTeC-slv-master/level2\\SLV00391-L2.xml\n",
      "D:/Korpusi/ELTEC/ELTeC-slv-master/NIF/SLV00391.txt\n",
      "D:/Korpusi/ELTEC/ELTeC-slv-master/level2\\SLV00398-L2.xml\n",
      "D:/Korpusi/ELTEC/ELTeC-slv-master/NIF/SLV00398.txt\n",
      "D:/Korpusi/ELTEC/ELTeC-slv-master/level2\\SLV00401-L2.xml\n",
      "D:/Korpusi/ELTEC/ELTeC-slv-master/NIF/SLV00401.txt\n",
      "D:/Korpusi/ELTEC/ELTeC-slv-master/level2\\SLV00406-L2.xml\n",
      "D:/Korpusi/ELTEC/ELTeC-slv-master/NIF/SLV00406.txt\n",
      "D:/Korpusi/ELTEC/ELTeC-slv-master/level2\\SLV00410-L2.xml\n",
      "D:/Korpusi/ELTEC/ELTeC-slv-master/NIF/SLV00410.txt\n",
      "D:/Korpusi/ELTEC/ELTeC-slv-master/level2\\SLV00417-L2.xml\n",
      "D:/Korpusi/ELTEC/ELTeC-slv-master/NIF/SLV00417.txt\n",
      "D:/Korpusi/ELTEC/ELTeC-slv-master/level2\\SLV00421-L2.xml\n",
      "D:/Korpusi/ELTEC/ELTeC-slv-master/NIF/SLV00421.txt\n",
      "D:/Korpusi/ELTEC/ELTeC-slv-master/level2\\SLV00425-L2.xml\n",
      "D:/Korpusi/ELTEC/ELTeC-slv-master/NIF/SLV00425.txt\n",
      "D:/Korpusi/ELTEC/ELTeC-slv-master/level2\\SLV00452-L2.xml\n",
      "D:/Korpusi/ELTEC/ELTeC-slv-master/NIF/SLV00452.txt\n",
      "D:/Korpusi/ELTEC/ELTeC-slv-master/level2\\SLV00454-L2.xml\n",
      "D:/Korpusi/ELTEC/ELTeC-slv-master/NIF/SLV00454.txt\n",
      "D:/Korpusi/ELTEC/ELTeC-slv-master/level2\\SLV00455-L2.xml\n",
      "D:/Korpusi/ELTEC/ELTeC-slv-master/NIF/SLV00455.txt\n",
      "D:/Korpusi/ELTEC/ELTeC-slv-master/level2\\SLV00456-L2.xml\n",
      "D:/Korpusi/ELTEC/ELTeC-slv-master/NIF/SLV00456.txt\n",
      "D:/Korpusi/ELTEC/ELTeC-slv-master/level2\\SLV00458-L2.xml\n",
      "D:/Korpusi/ELTEC/ELTeC-slv-master/NIF/SLV00458.txt\n",
      "D:/Korpusi/ELTEC/ELTeC-slv-master/level2\\SLV00459-L2.xml\n",
      "D:/Korpusi/ELTEC/ELTeC-slv-master/NIF/SLV00459.txt\n",
      "D:/Korpusi/ELTEC/ELTeC-slv-master/level2\\SLV00460-L2.xml\n",
      "D:/Korpusi/ELTEC/ELTeC-slv-master/NIF/SLV00460.txt\n",
      "D:/Korpusi/ELTEC/ELTeC-slv-master/level2\\SLV00461-L2.xml\n",
      "D:/Korpusi/ELTEC/ELTeC-slv-master/NIF/SLV00461.txt\n",
      "D:/Korpusi/ELTEC/ELTeC-slv-master/level2\\SLV00473-L2.xml\n",
      "D:/Korpusi/ELTEC/ELTeC-slv-master/NIF/SLV00473.txt\n",
      "D:/Korpusi/ELTEC/ELTeC-slv-master/level2\\SLV00476-L2.xml\n",
      "D:/Korpusi/ELTEC/ELTeC-slv-master/NIF/SLV00476.txt\n",
      "D:/Korpusi/ELTEC/ELTeC-slv-master/level2\\SLV00478-L2.xml\n",
      "D:/Korpusi/ELTEC/ELTeC-slv-master/NIF/SLV00478.txt\n",
      "D:/Korpusi/ELTEC/ELTeC-slv-master/level2\\SLV00483-L2.xml\n",
      "D:/Korpusi/ELTEC/ELTeC-slv-master/NIF/SLV00483.txt\n",
      "D:/Korpusi/ELTEC/ELTeC-slv-master/level2\\SLV00496-L2.xml\n",
      "D:/Korpusi/ELTEC/ELTeC-slv-master/NIF/SLV00496.txt\n",
      "D:/Korpusi/ELTEC/ELTeC-slv-master/level2\\SLV00497-L2.xml\n",
      "D:/Korpusi/ELTEC/ELTeC-slv-master/NIF/SLV00497.txt\n",
      "D:/Korpusi/ELTEC/ELTeC-slv-master/level2\\SLV00498-L2.xml\n",
      "D:/Korpusi/ELTEC/ELTeC-slv-master/NIF/SLV00498.txt\n",
      "D:/Korpusi/ELTEC/ELTeC-slv-master/level2\\SLV00502-L2.xml\n",
      "D:/Korpusi/ELTEC/ELTeC-slv-master/NIF/SLV00502.txt\n",
      "D:/Korpusi/ELTEC/ELTeC-slv-master/level2\\SLV00506-L2.xml\n",
      "D:/Korpusi/ELTEC/ELTeC-slv-master/NIF/SLV00506.txt\n",
      "D:/Korpusi/ELTEC/ELTeC-slv-master/level2\\SLV00526-L2.xml\n",
      "D:/Korpusi/ELTEC/ELTeC-slv-master/NIF/SLV00526.txt\n",
      "D:/Korpusi/ELTEC/ELTeC-slv-master/level2\\SLV10001-L2.xml\n",
      "D:/Korpusi/ELTEC/ELTeC-slv-master/NIF/SLV10001.txt\n",
      "D:/Korpusi/ELTEC/ELTeC-slv-master/level2\\SLV10002-L2.xml\n",
      "D:/Korpusi/ELTEC/ELTeC-slv-master/NIF/SLV10002.txt\n",
      "D:/Korpusi/ELTEC/ELTeC-slv-master/level2\\SLV10003-L2.xml\n",
      "D:/Korpusi/ELTEC/ELTeC-slv-master/NIF/SLV10003.txt\n",
      "D:/Korpusi/ELTEC/ELTeC-slv-master/level2\\SLV10004-L2.xml\n",
      "D:/Korpusi/ELTEC/ELTeC-slv-master/NIF/SLV10004.txt\n",
      "D:/Korpusi/ELTEC/ELTeC-slv-master/level2\\SLV10005-L2.xml\n",
      "D:/Korpusi/ELTEC/ELTeC-slv-master/NIF/SLV10005.txt\n",
      "D:/Korpusi/ELTEC/ELTeC-slv-master/level2\\SLV10006-L2.xml\n",
      "D:/Korpusi/ELTEC/ELTeC-slv-master/NIF/SLV10006.txt\n",
      "D:/Korpusi/ELTEC/ELTeC-slv-master/level2\\SLV10007-L2.xml\n",
      "D:/Korpusi/ELTEC/ELTeC-slv-master/NIF/SLV10007.txt\n",
      "D:/Korpusi/ELTEC/ELTeC-slv-master/level2\\SLV10008-L2.xml\n",
      "D:/Korpusi/ELTEC/ELTeC-slv-master/NIF/SLV10008.txt\n",
      "D:/Korpusi/ELTEC/ELTeC-slv-master/level2\\SLV10009-L2.xml\n",
      "D:/Korpusi/ELTEC/ELTeC-slv-master/NIF/SLV10009.txt\n",
      "D:/Korpusi/ELTEC/ELTeC-slv-master/level2\\SLV10010-L2.xml\n",
      "D:/Korpusi/ELTEC/ELTeC-slv-master/NIF/SLV10010.txt\n",
      "D:/Korpusi/ELTEC/ELTeC-slv-master/level2\\SLV10011-L2.xml\n",
      "D:/Korpusi/ELTEC/ELTeC-slv-master/NIF/SLV10011.txt\n",
      "D:/Korpusi/ELTEC/ELTeC-slv-master/level2\\SLV10012-L2.xml\n",
      "D:/Korpusi/ELTEC/ELTeC-slv-master/NIF/SLV10012.txt\n",
      "D:/Korpusi/ELTEC/ELTeC-slv-master/level2\\SLV10013-L2.xml\n",
      "D:/Korpusi/ELTEC/ELTeC-slv-master/NIF/SLV10013.txt\n",
      "D:/Korpusi/ELTEC/ELTeC-slv-master/level2\\SLV10014-L2.xml\n",
      "D:/Korpusi/ELTEC/ELTeC-slv-master/NIF/SLV10014.txt\n",
      "D:/Korpusi/ELTEC/ELTeC-slv-master/level2\\SLV10015-L2.xml\n",
      "D:/Korpusi/ELTEC/ELTeC-slv-master/NIF/SLV10015.txt\n",
      "D:/Korpusi/ELTEC/ELTeC-slv-master/level2\\SLV10016-L2.xml\n",
      "D:/Korpusi/ELTEC/ELTeC-slv-master/NIF/SLV10016.txt\n",
      "D:/Korpusi/ELTEC/ELTeC-slv-master/level2\\SLV10017-L2.xml\n",
      "D:/Korpusi/ELTEC/ELTeC-slv-master/NIF/SLV10017.txt\n",
      "D:/Korpusi/ELTEC/ELTeC-slv-master/level2\\SLV10018-L2.xml\n",
      "D:/Korpusi/ELTEC/ELTeC-slv-master/NIF/SLV10018.txt\n",
      "D:/Korpusi/ELTEC/ELTeC-slv-master/level2\\SLV10019-L2.xml\n",
      "D:/Korpusi/ELTEC/ELTeC-slv-master/NIF/SLV10019.txt\n",
      "D:/Korpusi/ELTEC/ELTeC-slv-master/level2\\SLV10020-L2.xml\n",
      "D:/Korpusi/ELTEC/ELTeC-slv-master/NIF/SLV10020.txt\n",
      "D:/Korpusi/ELTEC/ELTeC-slv-master/level2\\SLV10021-L2.xml\n",
      "D:/Korpusi/ELTEC/ELTeC-slv-master/NIF/SLV10021.txt\n",
      "D:/Korpusi/ELTEC/ELTeC-slv-master/level2\\SLV10022-L2.xml\n",
      "D:/Korpusi/ELTEC/ELTeC-slv-master/NIF/SLV10022.txt\n",
      "D:/Korpusi/ELTEC/ELTeC-slv-master/level2\\SLV10023-L2.xml\n",
      "D:/Korpusi/ELTEC/ELTeC-slv-master/NIF/SLV10023.txt\n",
      "D:/Korpusi/ELTEC/ELTeC-slv-master/level2\\SLV10024-L2.xml\n",
      "D:/Korpusi/ELTEC/ELTeC-slv-master/NIF/SLV10024.txt\n",
      "D:/Korpusi/ELTEC/ELTeC-slv-master/level2\\SLV10025-L2.xml\n",
      "D:/Korpusi/ELTEC/ELTeC-slv-master/NIF/SLV10025.txt\n",
      "D:/Korpusi/ELTEC/ELTeC-slv-master/level2\\SLV10026-L2.xml\n",
      "D:/Korpusi/ELTEC/ELTeC-slv-master/NIF/SLV10026.txt\n",
      "D:/Korpusi/ELTEC/ELTeC-slv-master/level2\\SLV10027-L2.xml\n",
      "D:/Korpusi/ELTEC/ELTeC-slv-master/NIF/SLV10027.txt\n",
      "D:/Korpusi/ELTEC/ELTeC-slv-master/level2\\SLV10028-L2.xml\n",
      "D:/Korpusi/ELTEC/ELTeC-slv-master/NIF/SLV10028.txt\n",
      "D:/Korpusi/ELTEC/ELTeC-slv-master/level2\\SLV10029-L2.xml\n",
      "D:/Korpusi/ELTEC/ELTeC-slv-master/NIF/SLV10029.txt\n",
      "D:/Korpusi/ELTEC/ELTeC-slv-master/level2\\SLV10030-L2.xml\n",
      "D:/Korpusi/ELTEC/ELTeC-slv-master/NIF/SLV10030.txt\n",
      "D:/Korpusi/ELTEC/ELTeC-slv-master/level2\\SLV10031-L2.xml\n",
      "D:/Korpusi/ELTEC/ELTeC-slv-master/NIF/SLV10031.txt\n",
      "D:/Korpusi/ELTEC/ELTeC-slv-master/level2\\SLV10032-L2.xml\n",
      "D:/Korpusi/ELTEC/ELTeC-slv-master/NIF/SLV10032.txt\n",
      "D:/Korpusi/ELTEC/ELTeC-slv-master/level2\\SLV20001-L2.xml\n",
      "D:/Korpusi/ELTEC/ELTeC-slv-master/NIF/SLV20001.txt\n",
      "D:/Korpusi/ELTEC/ELTeC-slv-master/level2\\SLV20002-L2.xml\n",
      "D:/Korpusi/ELTEC/ELTeC-slv-master/NIF/SLV20002.txt\n",
      "D:/Korpusi/ELTEC/ELTeC-slv-master/level2\\SLV30001-L2.xml\n",
      "D:/Korpusi/ELTEC/ELTeC-slv-master/NIF/SLV30001.txt\n"
     ]
    }
   ],
   "source": [
    "# list all xml files in level-2 only and generate NIF (~2 hours per language full files)\n",
    "lng= \"slv\" # deu , eng, hun, pol, por, rom, slv, spa, srp,       fra (ne)\n",
    "# depending on collection language\n",
    "ELTEC = rdflib.Namespace(\"http://llod.jerteh.rs/ELTEC/\"+lng+\"/NIF/\")\n",
    "lstLevel2=sorted(glob.glob('D:/Korpusi/ELTEC/ELTeC-'+lng+'-master/level2/*.xml'), key=locale.strxfrm)\n",
    "print (len(lstLevel2))\n",
    "for inp_file in lstLevel2:\n",
    "  print(inp_file)\n",
    "  try:\n",
    "      write_gnovel(inp_file,lng,1000) # for test use just few sentences\n",
    "  except:\n",
    "     print(\"........................... An exception occurred\")\n",
    "\n",
    "\n",
    " "
   ]
  },
  {
   "cell_type": "code",
   "execution_count": 19,
   "metadata": {
    "id": "ro7-h0hlw8R-"
   },
   "outputs": [],
   "source": [
    "#!zip -r NIF-eng.zip NIF-srp"
   ]
  }
 ],
 "metadata": {
  "colab": {
   "provenance": []
  },
  "kernelspec": {
   "display_name": "Python 3 (ipykernel)",
   "language": "python",
   "name": "python3"
  },
  "language_info": {
   "codemirror_mode": {
    "name": "ipython",
    "version": 3
   },
   "file_extension": ".py",
   "mimetype": "text/x-python",
   "name": "python",
   "nbconvert_exporter": "python",
   "pygments_lexer": "ipython3",
   "version": "3.9.7"
  }
 },
 "nbformat": 4,
 "nbformat_minor": 1
}
